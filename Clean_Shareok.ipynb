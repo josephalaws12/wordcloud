{
 "metadata": {
  "name": "",
  "signature": "sha256:20fb0b17bd8887beb714898e2781784d82206c915edb7e3d3538c3d1b4e5e1dc"
 },
 "nbformat": 3,
 "nbformat_minor": 0,
 "worksheets": [
  {
   "cells": [
    {
     "cell_type": "markdown",
     "metadata": {},
     "source": [
      "This code works at splitting the field dc.group into two parts, college and department. This is needed since DSpace hasas one reocord two pieces of information needing to be split. The split character is \"::\". Many of the cells in this notebook are there to help convince me that I was on the right path. \n",
      "\n",
      "The addtion of a \" \", to the lists is in part needed because the csv.output was not including the second column for single item lists. An example would be Health Sciences Center, which then only lists the college and does not list a department.  "
     ]
    },
    {
     "cell_type": "code",
     "collapsed": false,
     "input": [
      "import csv\n",
      "\n",
      "# another way to read in the file. \n",
      "f = open('./shareok/11244-1.csv', 'rb')\n",
      "shareok = csv.reader(f)\n",
      "j = 0\n",
      "headers = []\n",
      "for row in shareok:\n",
      "    if (j < 1):\n",
      "        headers = headers + row\n",
      "    j += 1"
     ],
     "language": "python",
     "metadata": {},
     "outputs": []
    },
    {
     "cell_type": "code",
     "collapsed": false,
     "input": [
      "j = 0\n",
      "for header in headers:\n",
      "    print j, header\n",
      "    j += 1"
     ],
     "language": "python",
     "metadata": {},
     "outputs": []
    },
    {
     "cell_type": "code",
     "collapsed": false,
     "input": [
      "# Gather all the colleges and departments \n",
      "\n",
      "colldept =[]\n",
      "j = 0\n",
      "with open('./shareok/11244-1.csv', 'rb') as ifile:\n",
      "    shareok = csv.reader(ifile)\n",
      "    for column in shareok:\n",
      "        if len(column[51]) > 0:\n",
      "            colldept.append(column[51])\n",
      "        elif len(column[52]) > 0:\n",
      "            colldept.append(column[52])\n",
      "        elif len(column[53]) > 0:\n",
      "            colldept.append(column[53])\n",
      "        else:\n",
      "            j += 1\n",
      "    print \"Number of entries that have no reporting college or department:\",j\n"
     ],
     "language": "python",
     "metadata": {},
     "outputs": []
    },
    {
     "cell_type": "code",
     "collapsed": false,
     "input": [
      "print len(colldept)"
     ],
     "language": "python",
     "metadata": {},
     "outputs": []
    },
    {
     "cell_type": "code",
     "collapsed": false,
     "input": [
      "# Now lets do this for advisors\n",
      "\n",
      "advisors =[]\n",
      "j = 0\n",
      "with open('./shareok/11244-1.csv', 'rb') as ifile:\n",
      "    shareok = csv.reader(ifile)\n",
      "    for column in shareok:\n",
      "        if len(column[2]) > 0:\n",
      "            advisors.append(column[2])\n",
      "        elif len(column[3]) > 0:\n",
      "            advisors.append(column[3])\n",
      "        elif len(column[4]) > 0:\n",
      "            advisors.append(column[4])\n",
      "        else:\n",
      "            j += 1\n",
      "    print \"Number of entries that have no reporting advisors:\",j\n"
     ],
     "language": "python",
     "metadata": {},
     "outputs": []
    },
    {
     "cell_type": "code",
     "collapsed": false,
     "input": [
      "# keep since this is where we do the splits.\n",
      "x = []\n",
      "\n",
      "for row in colldept:\n",
      "    x.append(row.split(\"::\"))\n",
      "\n",
      "    # remove header\n",
      "x = x[1:]\n",
      "\n",
      "# add \" \" to single entery lists\n",
      "\n",
      "j = 0 \n",
      "for row in x:\n",
      "    if (len(row) == 1):\n",
      "        x[j].append(\" \")\n",
      "    j += 1\n",
      "    "
     ],
     "language": "python",
     "metadata": {},
     "outputs": []
    },
    {
     "cell_type": "code",
     "collapsed": false,
     "input": [
      "# Now split for the faculty advisor and remove trailing comma if present\n",
      "y = []\n",
      "\n",
      "for row in advisors:\n",
      "    y.append(row.split(\"||\"))\n",
      "\n",
      "# remove header\n",
      "y = y[1:]\n",
      "\n",
      "# remove comma here\n",
      "y2 = []\n",
      "for item in y:\n",
      "    for element in item:\n",
      "        if element[-1] == ',':\n",
      "            y2.append(element[:-1])\n",
      "        else: \n",
      "            y2.append(element)\n",
      "\n",
      "advisor_list = []\n",
      "for names in y2:\n",
      "    advisor_list.append(names.split(\",\"))"
     ],
     "language": "python",
     "metadata": {},
     "outputs": []
    },
    {
     "cell_type": "code",
     "collapsed": false,
     "input": [
      "# Keep this as it works.\n",
      "\n",
      "ofile = open('./shareok/college_dept.csv', 'wb') \n",
      "writer = csv.writer(ofile, delimiter = ',', quotechar='\"',dialect='excel', quoting=csv.QUOTE_ALL)\n",
      "for row in x:\n",
      "    writer.writerow(row)\n",
      "    "
     ],
     "language": "python",
     "metadata": {},
     "outputs": []
    },
    {
     "cell_type": "code",
     "collapsed": false,
     "input": [
      "ofile2 = open('./shareok/advisors.csv', 'wb')\n",
      "#writer2 = csv.writer(ofile2,delimiter = ',', quotechar='\"', dialect='excel', quoting=csv.QUOTE_MINIMAL)\n",
      "writer2 = csv.writer(ofile2)\n",
      "for row in advisor_list:\n",
      "    writer2.writerow(row)"
     ],
     "language": "python",
     "metadata": {},
     "outputs": []
    },
    {
     "cell_type": "code",
     "collapsed": false,
     "input": [
      "ifile.close()\n",
      "ofile.close()\n",
      "ofile2.close()\n"
     ],
     "language": "python",
     "metadata": {},
     "outputs": []
    },
    {
     "cell_type": "markdown",
     "metadata": {},
     "source": [
      "----"
     ]
    }
   ],
   "metadata": {}
  }
 ]
}