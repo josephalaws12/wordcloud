{
 "metadata": {
  "name": "",
  "signature": "sha256:c6b18ab0469d1c348c2a10b1668836c09114d9b7dd936dc127ecd9c72ff9a2e5"
 },
 "nbformat": 3,
 "nbformat_minor": 0,
 "worksheets": [
  {
   "cells": [
    {
     "cell_type": "markdown",
     "metadata": {},
     "source": [
      "This code works at splitting the field dc.group into two parts, college and department. This is needed since DSpace hasas one reocord two pieces of information needing to be split. The split character is \"::\". Many of the cells in this notebook are there to help convince me that I was on the right path. \n",
      "\n",
      "The addtion of a \" \", to the lists is in part needed because the csv.output was not including the second column for single item lists. An example would be Health Sciences Center, which then only lists the college and does not list a department.  "
     ]
    },
    {
     "cell_type": "code",
     "collapsed": false,
     "input": [
      "import csv\n",
      "\n",
      "# another way to read in the file. \n",
      "f = open('./shareok/11244-1.csv', 'rb')\n",
      "shareok = csv.reader(f)\n",
      "j = 0\n",
      "headers = []\n",
      "for row in shareok:\n",
      "    if (j < 1):\n",
      "        headers = headers + row\n",
      "    j += 1"
     ],
     "language": "python",
     "metadata": {},
     "outputs": [],
     "prompt_number": 1
    },
    {
     "cell_type": "code",
     "collapsed": false,
     "input": [
      "j = 0\n",
      "for header in headers:\n",
      "    print j, header\n",
      "    j += 1"
     ],
     "language": "python",
     "metadata": {},
     "outputs": [
      {
       "output_type": "stream",
       "stream": "stdout",
       "text": [
        "0 id\n",
        "1 collection\n",
        "2 dc.contributor.advisor\n",
        "3 dc.contributor.advisor[]\n",
        "4 dc.contributor.advisor[en_US]\n",
        "5 dc.contributor.author\n",
        "6 dc.contributor.author[]\n",
        "7 dc.contributor.author[en_US]\n",
        "8 dc.contributor.committeeMember\n",
        "9 dc.contributor.committeeMember[]\n",
        "10 dc.coverage.spatial[]\n",
        "11 dc.date.issued\n",
        "12 dc.date.issued[]\n",
        "13 dc.date.issued[en_US]\n",
        "14 dc.date.manuscript\n",
        "15 dc.date.manuscript[]\n",
        "16 dc.description.abstract[]\n",
        "17 dc.description.abstract[en_US]\n",
        "18 dc.description.peerreview[en_US]\n",
        "19 dc.description.peerreviewnotes[en_US]\n",
        "20 dc.description.sponsorship[en_US]\n",
        "21 dc.description.tableOfContents[en_US]\n",
        "22 dc.description[]\n",
        "23 dc.description[en_US]\n",
        "24 dc.format.extent[en_US]\n",
        "25 dc.identifier.citation[]\n",
        "26 dc.identifier.doi[]\n",
        "27 dc.identifier.doi[en_US]\n",
        "28 dc.identifier.issn[]\n",
        "29 dc.identifier.uri\n",
        "30 dc.identifier.uri[]\n",
        "31 dc.language[en_US]\n",
        "32 dc.note[en_US]\n",
        "33 dc.publisher[]\n",
        "34 dc.publisher[en_US]\n",
        "35 dc.relation.isbasedon[]\n",
        "36 dc.relation.ispartof[]\n",
        "37 dc.relation.ispartofseries\n",
        "38 dc.relation.ispartofseries[]\n",
        "39 dc.relation.uri[]\n",
        "40 dc.subject[]\n",
        "41 dc.subject[en_US]\n",
        "42 dc.thesis.degreeDiscipline[en_US]\n",
        "43 dc.thesis.degree[en_US]\n",
        "44 dc.title.alternative[en_US]\n",
        "45 dc.title[en_US]\n",
        "46 dc.type[en_US]\n",
        "47 ou.course.dept[en_US]\n",
        "48 ou.course.number[en_US]\n",
        "49 ou.faculty\n",
        "50 ou.faculty[]\n",
        "51 ou.group\n",
        "52 ou.group[]\n",
        "53 ou.group[en_US]\n",
        "54 ou.homecountry[en_US]\n",
        "55 ou.homestate[en_US]\n",
        "56 ou.hometown[en_US]\n",
        "57 ou.identifier[en_US]\n",
        "58 ou.teacher\n",
        "59 ou.teacher[]\n"
       ]
      }
     ],
     "prompt_number": 2
    },
    {
     "cell_type": "code",
     "collapsed": false,
     "input": [
      "# Gather all the colleges and departments \n",
      "\n",
      "colldept =[]\n",
      "j = 0\n",
      "with open('./shareok/11244-1.csv', 'rb') as ifile:\n",
      "    shareok = csv.reader(ifile)\n",
      "    for column in shareok:\n",
      "        if len(column[51]) > 0:\n",
      "            colldept.append(column[51])\n",
      "        elif len(column[52]) > 0:\n",
      "            colldept.append(column[52])\n",
      "        elif len(column[53]) > 0:\n",
      "            colldept.append(column[53])\n",
      "        else:\n",
      "            j += 1\n",
      "    print \"Number of entries that have no reporting college or department:\",j\n"
     ],
     "language": "python",
     "metadata": {},
     "outputs": [
      {
       "output_type": "stream",
       "stream": "stdout",
       "text": [
        "Number of entries that have no reporting college or department: 33\n"
       ]
      }
     ],
     "prompt_number": 3
    },
    {
     "cell_type": "code",
     "collapsed": false,
     "input": [
      "print len(colldept)"
     ],
     "language": "python",
     "metadata": {},
     "outputs": [
      {
       "output_type": "stream",
       "stream": "stdout",
       "text": [
        "6168\n"
       ]
      }
     ],
     "prompt_number": 4
    },
    {
     "cell_type": "code",
     "collapsed": false,
     "input": [
      "# Now lets do this for advisors\n",
      "\n",
      "advisors =[]\n",
      "j = 0\n",
      "with open('./shareok/11244-1.csv', 'rb') as ifile:\n",
      "    shareok = csv.reader(ifile)\n",
      "    for column in shareok:\n",
      "        if len(column[2]) > 0:\n",
      "            advisors.append(column[2])\n",
      "        elif len(column[3]) > 0:\n",
      "            advisors.append(column[3])\n",
      "        elif len(column[4]) > 0:\n",
      "            advisors.append(column[4])\n",
      "        else:\n",
      "            j += 1\n",
      "    print \"Number of entries that have no reporting advisors:\",j\n"
     ],
     "language": "python",
     "metadata": {},
     "outputs": [
      {
       "output_type": "stream",
       "stream": "stdout",
       "text": [
        "Number of entries that have no reporting advisors: 4315\n"
       ]
      }
     ],
     "prompt_number": 5
    },
    {
     "cell_type": "code",
     "collapsed": false,
     "input": [
      "# keep since this is where we do the splits.\n",
      "x = []\n",
      "\n",
      "for row in colldept:\n",
      "    x.append(row.split(\"::\"))\n",
      "\n",
      "    # remove header\n",
      "x = x[1:]\n",
      "\n",
      "# add \" \" to single entery lists\n",
      "\n",
      "j = 0 \n",
      "for row in x:\n",
      "    if (len(row) == 1):\n",
      "        x[j].append(\" \")\n",
      "    j += 1\n",
      "    "
     ],
     "language": "python",
     "metadata": {},
     "outputs": [],
     "prompt_number": 6
    },
    {
     "cell_type": "code",
     "collapsed": false,
     "input": [
      "# Now split for the faculty advisor and remove trailing comma if present\n",
      "y = []\n",
      "\n",
      "for row in advisors:\n",
      "    y.append(row.split(\"||\"))\n",
      "\n",
      "# remove header\n",
      "y = y[1:]\n",
      "\n",
      "# remove comma here\n",
      "y2 = []\n",
      "for item in y:\n",
      "    for element in item:\n",
      "        if element[-1] == ',':\n",
      "            y2.append(element[:-1])\n",
      "        else: \n",
      "            y2.append(element)\n",
      "\n",
      "advisor_list = []\n",
      "for names in y2:\n",
      "    advisor_list.append(names.split(\",\"))"
     ],
     "language": "python",
     "metadata": {},
     "outputs": [],
     "prompt_number": 7
    },
    {
     "cell_type": "code",
     "collapsed": false,
     "input": [
      "# Keep this as it works.\n",
      "\n",
      "ofile = open('./shareok/college_dept.csv', 'wb') \n",
      "writer = csv.writer(ofile, delimiter = ',', quotechar='\"',dialect='excel', quoting=csv.QUOTE_ALL)\n",
      "for row in x:\n",
      "    writer.writerow(row)\n",
      "    "
     ],
     "language": "python",
     "metadata": {},
     "outputs": [],
     "prompt_number": 8
    },
    {
     "cell_type": "code",
     "collapsed": false,
     "input": [
      "ofile2 = open('./shareok/advisors.csv', 'wb')\n",
      "#writer2 = csv.writer(ofile2,delimiter = ',', quotechar='\"', dialect='excel', quoting=csv.QUOTE_MINIMAL)\n",
      "writer2 = csv.writer(ofile2)\n",
      "for row in advisor_list:\n",
      "    writer2.writerow(row)"
     ],
     "language": "python",
     "metadata": {},
     "outputs": [],
     "prompt_number": 9
    },
    {
     "cell_type": "code",
     "collapsed": false,
     "input": [
      "ifile.close()\n",
      "ofile.close()\n",
      "ofile2.close()\n"
     ],
     "language": "python",
     "metadata": {},
     "outputs": [],
     "prompt_number": 10
    },
    {
     "cell_type": "markdown",
     "metadata": {},
     "source": [
      "----"
     ]
    }
   ],
   "metadata": {}
  }
 ]
}